{
 "cells": [
  {
   "cell_type": "code",
   "execution_count": 1,
   "id": "d01a4072",
   "metadata": {},
   "outputs": [],
   "source": [
    "import numpy as np\n",
    "import pandas as pd\n",
    "from scipy.linalg import svd\n",
    "import matplotlib.pyplot as plt"
   ]
  },
  {
   "cell_type": "code",
   "execution_count": 2,
   "id": "a21a2464",
   "metadata": {},
   "outputs": [],
   "source": [
    "# Read file and store as pandas dataframe\n",
    "filename = '../Data/day.csv'\n",
    "df = pd.read_csv(filename)"
   ]
  },
  {
   "cell_type": "code",
   "execution_count": 3,
   "id": "4f6a216e",
   "metadata": {},
   "outputs": [
    {
     "name": "stdout",
     "output_type": "stream",
     "text": [
      "<class 'pandas.core.frame.DataFrame'>\n",
      "RangeIndex: 731 entries, 0 to 730\n",
      "Data columns (total 16 columns):\n",
      " #   Column      Non-Null Count  Dtype  \n",
      "---  ------      --------------  -----  \n",
      " 0   instant     731 non-null    int64  \n",
      " 1   dteday      731 non-null    object \n",
      " 2   season      731 non-null    int64  \n",
      " 3   yr          731 non-null    int64  \n",
      " 4   mnth        731 non-null    int64  \n",
      " 5   holiday     731 non-null    int64  \n",
      " 6   weekday     731 non-null    int64  \n",
      " 7   workingday  731 non-null    int64  \n",
      " 8   weathersit  731 non-null    int64  \n",
      " 9   temp        731 non-null    float64\n",
      " 10  atemp       731 non-null    float64\n",
      " 11  hum         731 non-null    float64\n",
      " 12  windspeed   731 non-null    float64\n",
      " 13  casual      731 non-null    int64  \n",
      " 14  registered  731 non-null    int64  \n",
      " 15  cnt         731 non-null    int64  \n",
      "dtypes: float64(4), int64(11), object(1)\n",
      "memory usage: 91.5+ KB\n"
     ]
    }
   ],
   "source": [
    "# Quick glance at information of dataset\n",
    "df.info()"
   ]
  },
  {
   "cell_type": "code",
   "execution_count": 4,
   "id": "ddabad39",
   "metadata": {},
   "outputs": [
    {
     "data": {
      "text/html": [
       "<div>\n",
       "<style scoped>\n",
       "    .dataframe tbody tr th:only-of-type {\n",
       "        vertical-align: middle;\n",
       "    }\n",
       "\n",
       "    .dataframe tbody tr th {\n",
       "        vertical-align: top;\n",
       "    }\n",
       "\n",
       "    .dataframe thead th {\n",
       "        text-align: right;\n",
       "    }\n",
       "</style>\n",
       "<table border=\"1\" class=\"dataframe\">\n",
       "  <thead>\n",
       "    <tr style=\"text-align: right;\">\n",
       "      <th></th>\n",
       "      <th>instant</th>\n",
       "      <th>season</th>\n",
       "      <th>yr</th>\n",
       "      <th>mnth</th>\n",
       "      <th>holiday</th>\n",
       "      <th>weekday</th>\n",
       "      <th>workingday</th>\n",
       "      <th>weathersit</th>\n",
       "      <th>temp</th>\n",
       "      <th>atemp</th>\n",
       "      <th>hum</th>\n",
       "      <th>windspeed</th>\n",
       "      <th>casual</th>\n",
       "      <th>registered</th>\n",
       "      <th>cnt</th>\n",
       "    </tr>\n",
       "  </thead>\n",
       "  <tbody>\n",
       "    <tr>\n",
       "      <th>count</th>\n",
       "      <td>731.000000</td>\n",
       "      <td>731.000000</td>\n",
       "      <td>731.000000</td>\n",
       "      <td>731.000000</td>\n",
       "      <td>731.000000</td>\n",
       "      <td>731.000000</td>\n",
       "      <td>731.000000</td>\n",
       "      <td>731.000000</td>\n",
       "      <td>731.000000</td>\n",
       "      <td>731.000000</td>\n",
       "      <td>731.000000</td>\n",
       "      <td>731.000000</td>\n",
       "      <td>731.000000</td>\n",
       "      <td>731.000000</td>\n",
       "      <td>731.000000</td>\n",
       "    </tr>\n",
       "    <tr>\n",
       "      <th>mean</th>\n",
       "      <td>366.000000</td>\n",
       "      <td>2.496580</td>\n",
       "      <td>0.500684</td>\n",
       "      <td>6.519836</td>\n",
       "      <td>0.028728</td>\n",
       "      <td>2.997264</td>\n",
       "      <td>0.683995</td>\n",
       "      <td>1.395349</td>\n",
       "      <td>0.495385</td>\n",
       "      <td>0.474354</td>\n",
       "      <td>0.627894</td>\n",
       "      <td>0.190486</td>\n",
       "      <td>848.176471</td>\n",
       "      <td>3656.172367</td>\n",
       "      <td>4504.348837</td>\n",
       "    </tr>\n",
       "    <tr>\n",
       "      <th>std</th>\n",
       "      <td>211.165812</td>\n",
       "      <td>1.110807</td>\n",
       "      <td>0.500342</td>\n",
       "      <td>3.451913</td>\n",
       "      <td>0.167155</td>\n",
       "      <td>2.004787</td>\n",
       "      <td>0.465233</td>\n",
       "      <td>0.544894</td>\n",
       "      <td>0.183051</td>\n",
       "      <td>0.162961</td>\n",
       "      <td>0.142429</td>\n",
       "      <td>0.077498</td>\n",
       "      <td>686.622488</td>\n",
       "      <td>1560.256377</td>\n",
       "      <td>1937.211452</td>\n",
       "    </tr>\n",
       "    <tr>\n",
       "      <th>min</th>\n",
       "      <td>1.000000</td>\n",
       "      <td>1.000000</td>\n",
       "      <td>0.000000</td>\n",
       "      <td>1.000000</td>\n",
       "      <td>0.000000</td>\n",
       "      <td>0.000000</td>\n",
       "      <td>0.000000</td>\n",
       "      <td>1.000000</td>\n",
       "      <td>0.059130</td>\n",
       "      <td>0.079070</td>\n",
       "      <td>0.000000</td>\n",
       "      <td>0.022392</td>\n",
       "      <td>2.000000</td>\n",
       "      <td>20.000000</td>\n",
       "      <td>22.000000</td>\n",
       "    </tr>\n",
       "    <tr>\n",
       "      <th>25%</th>\n",
       "      <td>183.500000</td>\n",
       "      <td>2.000000</td>\n",
       "      <td>0.000000</td>\n",
       "      <td>4.000000</td>\n",
       "      <td>0.000000</td>\n",
       "      <td>1.000000</td>\n",
       "      <td>0.000000</td>\n",
       "      <td>1.000000</td>\n",
       "      <td>0.337083</td>\n",
       "      <td>0.337842</td>\n",
       "      <td>0.520000</td>\n",
       "      <td>0.134950</td>\n",
       "      <td>315.500000</td>\n",
       "      <td>2497.000000</td>\n",
       "      <td>3152.000000</td>\n",
       "    </tr>\n",
       "    <tr>\n",
       "      <th>50%</th>\n",
       "      <td>366.000000</td>\n",
       "      <td>3.000000</td>\n",
       "      <td>1.000000</td>\n",
       "      <td>7.000000</td>\n",
       "      <td>0.000000</td>\n",
       "      <td>3.000000</td>\n",
       "      <td>1.000000</td>\n",
       "      <td>1.000000</td>\n",
       "      <td>0.498333</td>\n",
       "      <td>0.486733</td>\n",
       "      <td>0.626667</td>\n",
       "      <td>0.180975</td>\n",
       "      <td>713.000000</td>\n",
       "      <td>3662.000000</td>\n",
       "      <td>4548.000000</td>\n",
       "    </tr>\n",
       "    <tr>\n",
       "      <th>75%</th>\n",
       "      <td>548.500000</td>\n",
       "      <td>3.000000</td>\n",
       "      <td>1.000000</td>\n",
       "      <td>10.000000</td>\n",
       "      <td>0.000000</td>\n",
       "      <td>5.000000</td>\n",
       "      <td>1.000000</td>\n",
       "      <td>2.000000</td>\n",
       "      <td>0.655417</td>\n",
       "      <td>0.608602</td>\n",
       "      <td>0.730209</td>\n",
       "      <td>0.233214</td>\n",
       "      <td>1096.000000</td>\n",
       "      <td>4776.500000</td>\n",
       "      <td>5956.000000</td>\n",
       "    </tr>\n",
       "    <tr>\n",
       "      <th>max</th>\n",
       "      <td>731.000000</td>\n",
       "      <td>4.000000</td>\n",
       "      <td>1.000000</td>\n",
       "      <td>12.000000</td>\n",
       "      <td>1.000000</td>\n",
       "      <td>6.000000</td>\n",
       "      <td>1.000000</td>\n",
       "      <td>3.000000</td>\n",
       "      <td>0.861667</td>\n",
       "      <td>0.840896</td>\n",
       "      <td>0.972500</td>\n",
       "      <td>0.507463</td>\n",
       "      <td>3410.000000</td>\n",
       "      <td>6946.000000</td>\n",
       "      <td>8714.000000</td>\n",
       "    </tr>\n",
       "  </tbody>\n",
       "</table>\n",
       "</div>"
      ],
      "text/plain": [
       "          instant      season          yr        mnth     holiday     weekday  \\\n",
       "count  731.000000  731.000000  731.000000  731.000000  731.000000  731.000000   \n",
       "mean   366.000000    2.496580    0.500684    6.519836    0.028728    2.997264   \n",
       "std    211.165812    1.110807    0.500342    3.451913    0.167155    2.004787   \n",
       "min      1.000000    1.000000    0.000000    1.000000    0.000000    0.000000   \n",
       "25%    183.500000    2.000000    0.000000    4.000000    0.000000    1.000000   \n",
       "50%    366.000000    3.000000    1.000000    7.000000    0.000000    3.000000   \n",
       "75%    548.500000    3.000000    1.000000   10.000000    0.000000    5.000000   \n",
       "max    731.000000    4.000000    1.000000   12.000000    1.000000    6.000000   \n",
       "\n",
       "       workingday  weathersit        temp       atemp         hum   windspeed  \\\n",
       "count  731.000000  731.000000  731.000000  731.000000  731.000000  731.000000   \n",
       "mean     0.683995    1.395349    0.495385    0.474354    0.627894    0.190486   \n",
       "std      0.465233    0.544894    0.183051    0.162961    0.142429    0.077498   \n",
       "min      0.000000    1.000000    0.059130    0.079070    0.000000    0.022392   \n",
       "25%      0.000000    1.000000    0.337083    0.337842    0.520000    0.134950   \n",
       "50%      1.000000    1.000000    0.498333    0.486733    0.626667    0.180975   \n",
       "75%      1.000000    2.000000    0.655417    0.608602    0.730209    0.233214   \n",
       "max      1.000000    3.000000    0.861667    0.840896    0.972500    0.507463   \n",
       "\n",
       "            casual   registered          cnt  \n",
       "count   731.000000   731.000000   731.000000  \n",
       "mean    848.176471  3656.172367  4504.348837  \n",
       "std     686.622488  1560.256377  1937.211452  \n",
       "min       2.000000    20.000000    22.000000  \n",
       "25%     315.500000  2497.000000  3152.000000  \n",
       "50%     713.000000  3662.000000  4548.000000  \n",
       "75%    1096.000000  4776.500000  5956.000000  \n",
       "max    3410.000000  6946.000000  8714.000000  "
      ]
     },
     "execution_count": 4,
     "metadata": {},
     "output_type": "execute_result"
    }
   ],
   "source": [
    "# Quick glance at summary statistics of dataset\n",
    "df.describe()"
   ]
  },
  {
   "cell_type": "code",
   "execution_count": 5,
   "id": "1ca46c79",
   "metadata": {},
   "outputs": [],
   "source": [
    "# Remove 'instant' and 'dteday' attributes\n",
    "df = df.drop('instant', axis=1)\n",
    "df = df.drop('dteday', axis=1)"
   ]
  },
  {
   "cell_type": "code",
   "execution_count": 6,
   "id": "a584c47c",
   "metadata": {},
   "outputs": [
    {
     "name": "stdout",
     "output_type": "stream",
     "text": [
      "<class 'pandas.core.frame.DataFrame'>\n",
      "RangeIndex: 731 entries, 0 to 730\n",
      "Data columns (total 14 columns):\n",
      " #   Column      Non-Null Count  Dtype  \n",
      "---  ------      --------------  -----  \n",
      " 0   season      731 non-null    int64  \n",
      " 1   yr          731 non-null    int64  \n",
      " 2   mnth        731 non-null    int64  \n",
      " 3   holiday     731 non-null    int64  \n",
      " 4   weekday     731 non-null    int64  \n",
      " 5   workingday  731 non-null    int64  \n",
      " 6   weathersit  731 non-null    int64  \n",
      " 7   temp        731 non-null    float64\n",
      " 8   atemp       731 non-null    float64\n",
      " 9   hum         731 non-null    float64\n",
      " 10  windspeed   731 non-null    float64\n",
      " 11  casual      731 non-null    int64  \n",
      " 12  registered  731 non-null    int64  \n",
      " 13  cnt         731 non-null    int64  \n",
      "dtypes: float64(4), int64(10)\n",
      "memory usage: 80.1 KB\n"
     ]
    }
   ],
   "source": [
    "# Summary information of the dataset\n",
    "df.info()"
   ]
  },
  {
   "cell_type": "code",
   "execution_count": 7,
   "id": "2538a036",
   "metadata": {},
   "outputs": [],
   "source": [
    "X = df.values\n",
    "cols = range(0, df.shape[1])"
   ]
  },
  {
   "cell_type": "code",
   "execution_count": 8,
   "id": "9d1f3ac8",
   "metadata": {},
   "outputs": [
    {
     "data": {
      "text/plain": [
       "['season',\n",
       " 'yr',\n",
       " 'mnth',\n",
       " 'holiday',\n",
       " 'weekday',\n",
       " 'workingday',\n",
       " 'weathersit',\n",
       " 'temp',\n",
       " 'atemp',\n",
       " 'hum',\n",
       " 'windspeed',\n",
       " 'casual',\n",
       " 'registered',\n",
       " 'cnt']"
      ]
     },
     "execution_count": 8,
     "metadata": {},
     "output_type": "execute_result"
    }
   ],
   "source": [
    "# Extract attribute names\n",
    "attributeNames = list(df.columns)\n",
    "\n",
    "# OR\n",
    "# attributeNames = np.asarray(df.columns[cols])\n",
    "\n",
    "attributeNames"
   ]
  },
  {
   "cell_type": "code",
   "execution_count": 9,
   "id": "f4b75ab4",
   "metadata": {},
   "outputs": [
    {
     "name": "stdout",
     "output_type": "stream",
     "text": [
      "No. of instances, N:  731\n",
      "No. of attributes, M:  14\n"
     ]
    }
   ],
   "source": [
    "# Check attributes and data shape\n",
    "N, M = X.shape\n",
    "print(\"No. of instances, N: \", N)\n",
    "print(\"No. of attributes, M: \", M)"
   ]
  },
  {
   "cell_type": "code",
   "execution_count": 10,
   "id": "6e56087c",
   "metadata": {},
   "outputs": [],
   "source": [
    "# Undo the original max-min normalization\n",
    "temp = df.columns.get_loc(\"temp\")\n",
    "atemp = df.columns.get_loc(\"atemp\")\n",
    "hum = df.columns.get_loc(\"hum\")\n",
    "windspeed = df.columns.get_loc(\"windspeed\")\n",
    "\n",
    "for row in range(0, N):\n",
    "    X[row, temp] = X[row, temp]*(39-(-8)) + (-8)\n",
    "    X[row, atemp] = X[row, atemp]*(50-(-16)) + (-16)\n",
    "    X[row, hum] = X[row, hum]*100\n",
    "    X[row, windspeed] = X[row, windspeed]*67"
   ]
  },
  {
   "cell_type": "code",
   "execution_count": 11,
   "id": "981de3d4",
   "metadata": {},
   "outputs": [
    {
     "data": {
      "text/plain": [
       "array([[1.000e+00, 0.000e+00, 1.000e+00, ..., 3.310e+02, 6.540e+02,\n",
       "        9.850e+02],\n",
       "       [1.000e+00, 0.000e+00, 1.000e+00, ..., 1.310e+02, 6.700e+02,\n",
       "        8.010e+02],\n",
       "       [1.000e+00, 0.000e+00, 1.000e+00, ..., 1.200e+02, 1.229e+03,\n",
       "        1.349e+03],\n",
       "       ...,\n",
       "       [1.000e+00, 1.000e+00, 1.200e+01, ..., 1.590e+02, 1.182e+03,\n",
       "        1.341e+03],\n",
       "       [1.000e+00, 1.000e+00, 1.200e+01, ..., 3.640e+02, 1.432e+03,\n",
       "        1.796e+03],\n",
       "       [1.000e+00, 1.000e+00, 1.200e+01, ..., 4.390e+02, 2.290e+03,\n",
       "        2.729e+03]])"
      ]
     },
     "execution_count": 11,
     "metadata": {},
     "output_type": "execute_result"
    }
   ],
   "source": [
    "X"
   ]
  },
  {
   "cell_type": "code",
   "execution_count": 12,
   "id": "db71a86e",
   "metadata": {},
   "outputs": [
    {
     "name": "stdout",
     "output_type": "stream",
     "text": [
      "cnt_col:  13\n",
      "mean cnt:  -1.166417623682791e-16\n",
      "std cnt:  0.9999999999999999\n"
     ]
    }
   ],
   "source": [
    "# Standarize ratio data attributes for PCA\n",
    "cnt_col = df.columns.get_loc(\"cnt\")\n",
    "print(\"cnt_col: \", cnt_col)\n",
    "\n",
    "for col in range(temp, cnt_col+1):\n",
    "    # subtract mean, column by column\n",
    "    mn = X[:, col].mean(0)\n",
    "    X[:, col] = X[:, col] - np.ones(N) * mn\n",
    "    X[:, col] = X[:, col] * (1/np.std(X[:, col]))\n",
    "    \n",
    "# Check standardization\n",
    "print(\"mean cnt: \", X[:, 13].mean(0))\n",
    "print(\"std cnt: \", np.std(X[:, 13]))\n"
   ]
  },
  {
   "cell_type": "code",
   "execution_count": 13,
   "id": "b1b0108a",
   "metadata": {},
   "outputs": [
    {
     "data": {
      "text/plain": [
       "(731, 14)"
      ]
     },
     "execution_count": 13,
     "metadata": {},
     "output_type": "execute_result"
    }
   ],
   "source": [
    "X.shape"
   ]
  },
  {
   "cell_type": "code",
   "execution_count": 14,
   "id": "f5d4d459",
   "metadata": {},
   "outputs": [
    {
     "data": {
      "text/plain": [
       "(731, 7)"
      ]
     },
     "execution_count": 14,
     "metadata": {},
     "output_type": "execute_result"
    }
   ],
   "source": [
    "# Focus on the last 7 attributes for now\n",
    "col1 = df.columns.get_loc(\"temp\")\n",
    "col2 = df.columns.get_loc(\"cnt\")\n",
    "\n",
    "X = X[:,col1:col2+1]\n",
    "X.shape\n"
   ]
  },
  {
   "cell_type": "code",
   "execution_count": 15,
   "id": "93045162",
   "metadata": {},
   "outputs": [
    {
     "data": {
      "text/plain": [
       "array([[-0.82666213, -0.67994602,  1.25017133, ..., -0.7537338 ,\n",
       "        -1.9254707 , -1.81795256],\n",
       "       [-0.72109471, -0.74065231,  0.47911298, ..., -1.04521412,\n",
       "        -1.91520896, -1.91299949],\n",
       "       [-1.63465665, -1.749767  , -1.33927398, ..., -1.06124554,\n",
       "        -1.5566892 , -1.62992496],\n",
       "       ...,\n",
       "       [-1.32322427, -1.42434419,  0.87839173, ..., -1.00440687,\n",
       "        -1.58683308, -1.63405743],\n",
       "       [-1.30955752, -1.49004895, -1.01566357, ..., -0.70563955,\n",
       "        -1.42649329, -1.39902293],\n",
       "       [-1.52822548, -1.54048197, -0.35406086, ..., -0.59633443,\n",
       "        -0.87620714, -0.91707305]])"
      ]
     },
     "execution_count": 15,
     "metadata": {},
     "output_type": "execute_result"
    }
   ],
   "source": [
    "X"
   ]
  },
  {
   "cell_type": "code",
   "execution_count": 16,
   "id": "1dd8cc05",
   "metadata": {},
   "outputs": [],
   "source": [
    "# PCA by computing SVD\n",
    "U, S, V = svd(X, full_matrices=False)\n",
    "\n",
    "# Compute variance explained by principal components\n",
    "rho = (S*S) / (S*S).sum()\n",
    "\n",
    "# Project data onto principal component space\n",
    "Z = X @ V"
   ]
  },
  {
   "cell_type": "code",
   "execution_count": 17,
   "id": "0a51d869",
   "metadata": {},
   "outputs": [
    {
     "data": {
      "image/png": "[encoded data removed]",
      "text/plain": [
       "<Figure size 640x480 with 1 Axes>"
      ]
     },
     "metadata": {},
     "output_type": "display_data"
    }
   ],
   "source": [
    "# Plot variance explained\n",
    "plt.figure()\n",
    "plt.plot(range(1, len(rho)+1), rho, 'x-')\n",
    "plt.plot(range(1, len(rho)+1), np.cumsum(rho), 'o-')\n",
    "plt.title('Variance explained by principal components')\n",
    "plt.xlabel('Principal component')\n",
    "plt.ylabel('Variance explained')\n",
    "plt.legend(['Individual', 'Cumulative'])\n",
    "plt.grid()\n",
    "plt.show()"
   ]
  },
  {
   "cell_type": "code",
   "execution_count": 18,
   "id": "4422a2dc",
   "metadata": {},
   "outputs": [
    {
     "data": {
      "text/plain": [
       "array([5.23455716e-01, 1.80612299e-01, 1.31972061e-01, 9.05522771e-02,\n",
       "       7.22755800e-02, 1.13206690e-03, 4.78348563e-33])"
      ]
     },
     "execution_count": 18,
     "metadata": {},
     "output_type": "execute_result"
    }
   ],
   "source": [
    "rho\n"
   ]
  },
  {
   "cell_type": "code",
   "execution_count": null,
   "id": "72470b2a",
   "metadata": {},
   "outputs": [],
   "source": []
  }
 ],
 "metadata": {
  "kernelspec": {
   "display_name": "course02450",
   "language": "python",
   "name": "course02450"
  },
  "language_info": {
   "codemirror_mode": {
    "name": "ipython",
    "version": 3
   },
   "file_extension": ".py",
   "mimetype": "text/x-python",
   "name": "python",
   "nbconvert_exporter": "python",
   "pygments_lexer": "ipython3",
   "version": "3.9.16"
  }
 },
 "nbformat": 4,
 "nbformat_minor": 5
}
